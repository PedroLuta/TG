{
 "cells": [
  {
   "cell_type": "code",
   "execution_count": 7,
   "metadata": {},
   "outputs": [],
   "source": [
    "import noise_calc\n",
    "import prop_simulate\n",
    "import prop_design\n",
    "import optimization_NSGA2\n",
    "import numpy as np\n",
    "import matplotlib.pyplot as plt\n",
    "import math\n",
    "import pandas as pd"
   ]
  },
  {
   "cell_type": "code",
   "execution_count": 4,
   "metadata": {},
   "outputs": [],
   "source": [
    "Diameter_m = 3;\n",
    "SpinnerCutoff = 0.2\n",
    "NumberOfBlades = 2\n",
    "ObjectiveThrust_N = 4000\n",
    "AxialVelocity_m_s = 0\n",
    "ForwardVelocity_m_s = 0\n",
    "ClMachPolars = pd.read_csv(\"ClarkYClPolar.dat\", header = 1)\n",
    "CdMachPolars = pd.read_csv(\"ClarkYCdPolar.dat\", header = 1)\n",
    "NumberOfStations = 11\n",
    "Convergence = 0.01 #Newton\n",
    "\n",
    "DistanceToObserver_m = 150\n",
    "AngleToObserver_deg = 30  #Angle from Negative thrust to observer\n",
    "\n",
    "SoundSpeed_m_s = 343\n",
    "AirDensity_Kg_m3 = 1.225"
   ]
  },
  {
   "cell_type": "code",
   "execution_count": 5,
   "metadata": {},
   "outputs": [],
   "source": [
    "def Evaluation(Chromossome):\n",
    "  Croot_adim = Chromossome[\"Croot\"]\n",
    "  Cmax_adim = Chromossome[\"Cmax\"]\n",
    "  Smax_adim = Chromossome[\"Smax\"]\n",
    "  Ctip_adim = Chromossome[\"Ctip\"]\n",
    "  Pitch_m = Chromossome[\"Pitch\"]\n",
    "  Colective_deg = Chromossome[\"Collective\"]\n",
    "\n",
    "  #c_R = (a*r**3 + b*r**2 + c*r + d)**0.5\n",
    "  a = -(2*Cmax_adim**2*Smax_adim - Cmax_adim**2 + Croot_adim**2*Smax_adim**2 - 2*Croot_adim**2*Smax_adim + Croot_adim**2 - Ctip_adim**2*Smax_adim**2)/(Smax_adim**2*(Smax_adim - 1)**2)\n",
    "  b = -(- 3*Cmax_adim**2*Smax_adim**2 + Cmax_adim**2 - 2*Croot_adim**2*Smax_adim**3 + 3*Croot_adim**2*Smax_adim**2 - Croot_adim**2 + 2*Ctip_adim**2*Smax_adim**3)/(Smax_adim**2*(Smax_adim - 1)**2)\n",
    "  c = -(3*Cmax_adim**2*Smax_adim - 2*Cmax_adim**2 + Croot_adim**2*Smax_adim**3 - 3*Croot_adim**2*Smax_adim + 2*Croot_adim**2 - Ctip_adim**2*Smax_adim**3)/(Smax_adim*(Smax_adim - 1)**2)\n",
    "  d = Croot_adim**2\n",
    "\n",
    "  S = np.linspace(0, 0.9999, NumberOfStations, endpoint = True)\n",
    "  RadialStations_adim = [SpinnerCutoff + (1 - SpinnerCutoff)*s for s in S]\n",
    "  RadialStations_m = [r*Diameter_m/2 for r in RadialStations_adim]\n",
    "\n",
    "  ChordDistribution_m = [((a*s**3 + b*s**2 + c*s + d)**0.5)*Diameter_m/2 for s in S]\n",
    "\n",
    "  TwistDistribution_deg = prop_design.simple_pitch(RadialStations_m, Pitch_m)\n",
    "  TwistDistributionCollective_deg = [twist + Colective_deg for twist in TwistDistribution_deg]\n",
    "\n",
    "  UpperOmega_rad_s = 1000\n",
    "  LowerOmega_rad_s = 10\n",
    "\n",
    "  dT_vector, dQ_vector, r_vector, Re_vector, WA_vector, Cl_vector, Cd_vector = prop_simulate.qprop_PrePolarsPreDataframeWithMach(AxialVelocity_m_s, UpperOmega_rad_s, NumberOfBlades, Diameter_m/2, RadialStations_m, TwistDistributionCollective_deg, ChordDistribution_m, ClMachPolars, CdMachPolars)\n",
    "  UpperResidue = ObjectiveThrust_N - np.trapz(dT_vector, r_vector)\n",
    "  dT_vector, dQ_vector, r_vector, Re_vector, WA_vector, Cl_vector, Cd_vector = prop_simulate.qprop_PrePolarsPreDataframeWithMach(AxialVelocity_m_s, LowerOmega_rad_s, NumberOfBlades, Diameter_m/2, RadialStations_m, TwistDistributionCollective_deg, ChordDistribution_m, ClMachPolars, CdMachPolars)\n",
    "  LowerResidue = ObjectiveThrust_N - np.trapz(dT_vector, r_vector)\n",
    "\n",
    "  Converged = False\n",
    "  for _ in range(100):\n",
    "    MidOmega_rad_s = (UpperOmega_rad_s + LowerOmega_rad_s)/2\n",
    "    dT_vector, dQ_vector, r_vector, Re_vector, WA_vector, Cl_vector, Cd_vector = prop_simulate.qprop_PrePolarsPreDataframeWithMach(AxialVelocity_m_s, MidOmega_rad_s, NumberOfBlades, Diameter_m/2, RadialStations_m, TwistDistributionCollective_deg, ChordDistribution_m, ClMachPolars, CdMachPolars)\n",
    "    MidResidue = ObjectiveThrust_N - np.trapz(dT_vector, r_vector)\n",
    "\n",
    "    if abs(MidResidue) < Convergence:\n",
    "      Converged = True\n",
    "      break\n",
    "\n",
    "    if UpperResidue*MidResidue < 0:\n",
    "      LowerResidue = MidResidue\n",
    "      LowerOmega_rad_s = MidOmega_rad_s\n",
    "    elif LowerResidue*MidResidue < 0:\n",
    "      UpperResidue = MidResidue\n",
    "      UpperOmega_rad_s = MidOmega_rad_s\n",
    "    else:\n",
    "      print(\"Convergence Failed\")\n",
    "      break\n",
    "  \n",
    "  if not Converged:\n",
    "    return [10**10, 200], {}\n",
    "  \n",
    "  SoundBand = noise_calc.OneThirdSpectrum()\n",
    "  BladeArea_m2 = np.trapz(ChordDistribution_m, RadialStations_m)\n",
    "  AverageBladeCl = sum(Cl_vector)/len(Cl_vector)\n",
    "  TotalThrust_N = np.trapz(dT_vector, r_vector)\n",
    "  TotalTorque_Nm = np.trapz(dQ_vector, r_vector)\n",
    "  ThrustCoefficient = TotalThrust_N/(AirDensity_Kg_m3*((MidOmega_rad_s/(2*np.pi))**2)*(Diameter_m**4))\n",
    "  TipSpeed_m_s = MidOmega_rad_s*Diameter_m/2\n",
    "\n",
    "  Bands1_Hz, SPL1_dB = noise_calc.BroadbandNoise(BladeArea_m2, AverageBladeCl, TotalThrust_N, TipSpeed_m_s, DistanceToObserver_m, AngleToObserver_deg)\n",
    "  Bands2_Hz, SPL2_dB = noise_calc.RotationalNoiseSteadyUnsteadyLoading(NumberOfBlades, ForwardVelocity_m_s/SoundSpeed_m_s, (MidOmega_rad_s*Diameter_m/2)/SoundSpeed_m_s, MidOmega_rad_s/(2*np.pi), DistanceToObserver_m, Diameter_m/2, noise_calc.CalculateRotorEffectiveRadius(ThrustCoefficient, Diameter_m/2), TotalThrust_N, 90 - AngleToObserver_deg, 0)\n",
    "  SoundBand.SumToSpectrum(Bands1_Hz, SPL1_dB)\n",
    "  SoundBand.SumToSpectrum(Bands2_Hz, SPL2_dB)\n",
    "\n",
    "  return [TotalTorque_Nm*MidOmega_rad_s, SoundBand.PNLT()], {\"TipSpeed_m_s\": TipSpeed_m_s, \"BladeArea_m2\": BladeArea_m2, \"AverageBladeCl\": AverageBladeCl, \"ThrustCoefficient\": ThrustCoefficient, \"RPM\": MidOmega_rad_s*60/(2*np.pi)}\n",
    "\n",
    "def Validation(Chromossome):\n",
    "  Croot_adim = Chromossome[\"Croot\"]\n",
    "  Cmax_adim = Chromossome[\"Cmax\"]\n",
    "  Smax_adim = Chromossome[\"Smax\"]\n",
    "  Ctip_adim = Chromossome[\"Ctip\"]\n",
    "\n",
    "  #c_R = (a*r**3 + b*r**2 + c*r + d)**0.5\n",
    "  a = -(2*Cmax_adim**2*Smax_adim - Cmax_adim**2 + Croot_adim**2*Smax_adim**2 - 2*Croot_adim**2*Smax_adim + Croot_adim**2 - Ctip_adim**2*Smax_adim**2)/(Smax_adim**2*(Smax_adim - 1)**2)\n",
    "  b = -(- 3*Cmax_adim**2*Smax_adim**2 + Cmax_adim**2 - 2*Croot_adim**2*Smax_adim**3 + 3*Croot_adim**2*Smax_adim**2 - Croot_adim**2 + 2*Ctip_adim**2*Smax_adim**3)/(Smax_adim**2*(Smax_adim - 1)**2)\n",
    "  c = -(3*Cmax_adim**2*Smax_adim - 2*Cmax_adim**2 + Croot_adim**2*Smax_adim**3 - 3*Croot_adim**2*Smax_adim + 2*Croot_adim**2 - Ctip_adim**2*Smax_adim**3)/(Smax_adim*(Smax_adim - 1)**2)\n",
    "  d = Croot_adim**2\n",
    "\n",
    "  DerivativeZero = c/(2*(d**0.5))\n",
    "  DerivativeOne = (3*a + 2*b + c)/(2*((a + b + c + d)**0.5))\n",
    "  if DerivativeZero < 0:\n",
    "    return False\n",
    "  if DerivativeOne > 0:\n",
    "    return False\n",
    "  return True"
   ]
  },
  {
   "cell_type": "code",
   "execution_count": 10,
   "metadata": {},
   "outputs": [
    {
     "name": "stdout",
     "output_type": "stream",
     "text": [
      "Generation 1!\n",
      "Generation 2\n",
      "The Pareto is in convergence state for 0 generations\n",
      "Generation 3\n",
      "The Pareto is in convergence state for 0 generations\n",
      "Generation 4\n",
      "The Pareto is in convergence state for 1 generations\n",
      "Generation 5\n",
      "The Pareto is in convergence state for 2 generations\n",
      "Generation 6\n",
      "The Pareto is in convergence state for 3 generations\n",
      "Generation 7\n",
      "The Pareto is in convergence state for 4 generations\n",
      "Generation 8\n",
      "The Pareto is in convergence state for 5 generations\n"
     ]
    }
   ],
   "source": [
    "NInd = 50\n",
    "DecimalPoints = 4\n",
    "Convergence = 5\n",
    "MovingAverageLen = 1\n",
    "MovingAverageTol = 0.001\n",
    "MutRate = 0.2\n",
    "TSize = 5\n",
    "\n",
    "OptimizationObject = optimization_NSGA2.NSGA2_v2(n_ind = NInd, mut_rate = MutRate, t_size = TSize, DecimalPoints = DecimalPoints, convergence = Convergence, ma_len = MovingAverageLen, ma_tol = MovingAverageTol)\n",
    "OptimizationObject.set_functions(Evaluation, Validation)\n",
    "OptimizationObject.set_population_limits({\"Croot\": [0.02, 0.3], \"Cmax\": [0.02, 0.4], \"Smax\": [0.0001, 0.9999], \"Ctip\": [0.02, 0.4], \"Pitch\": [0.1*Diameter_m, 2*Diameter_m], \"Collective\": [0, 30]})\n",
    "OptimizationObject.run()"
   ]
  },
  {
   "cell_type": "code",
   "execution_count": 23,
   "metadata": {},
   "outputs": [],
   "source": [
    "def GetCGV2(Pareto):\n",
    "#Metodo de obtenção do \"CG\" com os pontos extremos\n",
    "  RefInd = Pareto[0]\n",
    "  MinIndList = []\n",
    "  for i in range(len(RefInd.get_ObjVal())):\n",
    "    first = True\n",
    "    for ind in Pareto:\n",
    "      if first:\n",
    "        MinInd = ind\n",
    "        first =  False\n",
    "        continue\n",
    "      if ind.get_ObjVal(i) < MinInd.get_ObjVal(i):\n",
    "        MinInd = ind\n",
    "    MinIndList.append(MinInd)\n",
    "\n",
    "  CG = []\n",
    "  for i in range(len(RefInd.get_ObjVal())):\n",
    "    Acumulate = 0\n",
    "    for ind in MinIndList:\n",
    "      Acumulate += ind.get_ObjVal(i)\n",
    "    CG.append(Acumulate/len(MinIndList))\n",
    "    \n",
    "  return CG\n",
    "\n",
    "def GetClosestToCGV2(Pareto, CG):\n",
    "  first = True\n",
    "  for ind in Pareto:\n",
    "    ObjFuncs = ind.get_ObjVal()\n",
    "    Acumulate = 0\n",
    "    for i in range(len(ObjFuncs)):\n",
    "      Acumulate += (CG[i] - ObjFuncs[i])**2\n",
    "    Dist = Acumulate**0.5\n",
    "    if first:\n",
    "      MinDist = Dist\n",
    "      MinDistInd = ind\n",
    "      first =  False\n",
    "      continue\n",
    "    if Dist < MinDist:\n",
    "      MinDist = Dist\n",
    "      MinDistInd = ind\n",
    "  return MinDistInd"
   ]
  },
  {
   "cell_type": "code",
   "execution_count": 24,
   "metadata": {},
   "outputs": [
    {
     "name": "stdout",
     "output_type": "stream",
     "text": [
      "447.6345376861304\n",
      "447.6345376861304\n"
     ]
    }
   ],
   "source": [
    "FinalPareto = optimization_NSGA2.return_pareto_front(OptimizationObject.current_pop)\n",
    "FinalCG = GetCGV2(FinalPareto)\n",
    "OptimumSolution = GetClosestToCGV2(FinalPareto, FinalCG)"
   ]
  },
  {
   "cell_type": "code",
   "execution_count": 17,
   "metadata": {},
   "outputs": [
    {
     "data": {
      "image/png": "[encoded data removed]",
      "text/plain": [
       "<Figure size 640x480 with 1 Axes>"
      ]
     },
     "metadata": {},
     "output_type": "display_data"
    }
   ],
   "source": [
    "S = np.linspace(0, 1, NumberOfStations, endpoint = True)\n",
    "Chromossome = OptimumSolution.get_chrom()\n",
    "Croot_adim = Chromossome[\"Croot\"]\n",
    "Cmax_adim = Chromossome[\"Cmax\"]\n",
    "Smax_adim = Chromossome[\"Smax\"]\n",
    "Ctip_adim = Chromossome[\"Ctip\"]\n",
    "Pitch_m = Chromossome[\"Pitch\"]\n",
    "Colective_deg = Chromossome[\"Collective\"]\n",
    "#c_R = (a*r**3 + b*r**2 + c*r + d)**0.5\n",
    "a = -(2*Cmax_adim**2*Smax_adim - Cmax_adim**2 + Croot_adim**2*Smax_adim**2 - 2*Croot_adim**2*Smax_adim + Croot_adim**2 - Ctip_adim**2*Smax_adim**2)/(Smax_adim**2*(Smax_adim - 1)**2)\n",
    "b = -(- 3*Cmax_adim**2*Smax_adim**2 + Cmax_adim**2 - 2*Croot_adim**2*Smax_adim**3 + 3*Croot_adim**2*Smax_adim**2 - Croot_adim**2 + 2*Ctip_adim**2*Smax_adim**3)/(Smax_adim**2*(Smax_adim - 1)**2)\n",
    "c = -(3*Cmax_adim**2*Smax_adim - 2*Cmax_adim**2 + Croot_adim**2*Smax_adim**3 - 3*Croot_adim**2*Smax_adim + 2*Croot_adim**2 - Ctip_adim**2*Smax_adim**3)/(Smax_adim*(Smax_adim - 1)**2)\n",
    "d = Croot_adim**2\n",
    "plt.plot(S, [(a*s**3 + b*s**2 + c*s + d)**0.5 for s in S])\n",
    "plt.show()"
   ]
  },
  {
   "cell_type": "code",
   "execution_count": null,
   "metadata": {},
   "outputs": [],
   "source": [
    "S = np.linspace(0, 1, NumberOfStations, endpoint = True)\n",
    "for ind in optimization_NSGA2.return_pareto_front(OptimizationObject.current_pop):\n",
    "  Chromossome = ind.get_chrom()\n",
    "  Croot_adim = Chromossome[\"Croot\"]\n",
    "  Cmax_adim = Chromossome[\"Cmax\"]\n",
    "  Smax_adim = Chromossome[\"Smax\"]\n",
    "  Ctip_adim = Chromossome[\"Ctip\"]\n",
    "  Pitch_m = Chromossome[\"Pitch\"]\n",
    "  Colective_deg = Chromossome[\"Collective\"]\n",
    "  #c_R = (a*r**3 + b*r**2 + c*r + d)**0.5\n",
    "  a = -(2*Cmax_adim**2*Smax_adim - Cmax_adim**2 + Croot_adim**2*Smax_adim**2 - 2*Croot_adim**2*Smax_adim + Croot_adim**2 - Ctip_adim**2*Smax_adim**2)/(Smax_adim**2*(Smax_adim - 1)**2)\n",
    "  b = -(- 3*Cmax_adim**2*Smax_adim**2 + Cmax_adim**2 - 2*Croot_adim**2*Smax_adim**3 + 3*Croot_adim**2*Smax_adim**2 - Croot_adim**2 + 2*Ctip_adim**2*Smax_adim**3)/(Smax_adim**2*(Smax_adim - 1)**2)\n",
    "  c = -(3*Cmax_adim**2*Smax_adim - 2*Cmax_adim**2 + Croot_adim**2*Smax_adim**3 - 3*Croot_adim**2*Smax_adim + 2*Croot_adim**2 - Ctip_adim**2*Smax_adim**3)/(Smax_adim*(Smax_adim - 1)**2)\n",
    "  d = Croot_adim**2\n",
    "  plt.plot(S, [(a*s**3 + b*s**2 + c*s + d)**0.5 for s in S])\n",
    "plt.show()"
   ]
  },
  {
   "cell_type": "code",
   "execution_count": 13,
   "metadata": {},
   "outputs": [
    {
     "data": {
      "image/png": "[encoded data removed]",
      "text/plain": [
       "<Figure size 640x480 with 1 Axes>"
      ]
     },
     "metadata": {},
     "output_type": "display_data"
    }
   ],
   "source": [
    "import dill\n",
    "\n",
    "dill.load_session(f\"RunsV4/RUN0_BASELINE.pkl\")\n",
    "for ind in optimization_NSGA2.return_pareto_front(OptimizationObject.current_pop):\n",
    "  funcs = ind.get_ObjVal()\n",
    "  plt.plot(funcs[0], funcs[1], 'bo')\n",
    "\n",
    "dill.load_session(f\"RunsV4/RUN36_5.pkl\")\n",
    "for ind in optimization_NSGA2.return_pareto_front(OptimizationObject.current_pop):\n",
    "  funcs = ind.get_ObjVal()\n",
    "  plt.plot(funcs[0], funcs[1], 'ro')\n",
    "plt.show()"
   ]
  }
 ],
 "metadata": {
  "kernelspec": {
   "display_name": "Python 3",
   "language": "python",
   "name": "python3"
  },
  "language_info": {
   "codemirror_mode": {
    "name": "ipython",
    "version": 3
   },
   "file_extension": ".py",
   "mimetype": "text/x-python",
   "name": "python",
   "nbconvert_exporter": "python",
   "pygments_lexer": "ipython3",
   "version": "3.10.4"
  },
  "orig_nbformat": 4
 },
 "nbformat": 4,
 "nbformat_minor": 2
}
